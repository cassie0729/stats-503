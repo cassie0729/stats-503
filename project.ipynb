{
  "cells": [
    {
      "cell_type": "code",
      "execution_count": null,
      "metadata": {
        "id": "76__SHGaojao"
      },
      "outputs": [],
      "source": [
        "import seaborn as sns\n",
        "import pandas as pd\n",
        "import numpy as np\n",
        "import matplotlib.pyplot as plt"
      ],
      "id": "76__SHGaojao"
    },
    {
      "cell_type": "code",
      "execution_count": null,
      "metadata": {
        "id": "8vr2JcrPojas"
      },
      "outputs": [],
      "source": [
        "music = pd.read_csv('train.csv')"
      ],
      "id": "8vr2JcrPojas"
    },
    {
      "cell_type": "code",
      "execution_count": null,
      "metadata": {
        "id": "c_wcwezFojas",
        "outputId": "d3b5e937-4d18-4bfa-9c55-026989191227"
      },
      "outputs": [
        {
          "data": {
            "text/html": [
              "<div>\n",
              "<style scoped>\n",
              "    .dataframe tbody tr th:only-of-type {\n",
              "        vertical-align: middle;\n",
              "    }\n",
              "\n",
              "    .dataframe tbody tr th {\n",
              "        vertical-align: top;\n",
              "    }\n",
              "\n",
              "    .dataframe thead th {\n",
              "        text-align: right;\n",
              "    }\n",
              "</style>\n",
              "<table border=\"1\" class=\"dataframe\">\n",
              "  <thead>\n",
              "    <tr style=\"text-align: right;\">\n",
              "      <th></th>\n",
              "      <th>Artist Name</th>\n",
              "      <th>Track Name</th>\n",
              "      <th>Popularity</th>\n",
              "      <th>danceability</th>\n",
              "      <th>energy</th>\n",
              "      <th>key</th>\n",
              "      <th>loudness</th>\n",
              "      <th>mode</th>\n",
              "      <th>speechiness</th>\n",
              "      <th>acousticness</th>\n",
              "      <th>instrumentalness</th>\n",
              "      <th>liveness</th>\n",
              "      <th>valence</th>\n",
              "      <th>tempo</th>\n",
              "      <th>duration_in min/ms</th>\n",
              "      <th>time_signature</th>\n",
              "      <th>Class</th>\n",
              "    </tr>\n",
              "  </thead>\n",
              "  <tbody>\n",
              "    <tr>\n",
              "      <th>0</th>\n",
              "      <td>Bruno Mars</td>\n",
              "      <td>That's What I Like (feat. Gucci Mane)</td>\n",
              "      <td>60.0</td>\n",
              "      <td>0.854</td>\n",
              "      <td>0.564</td>\n",
              "      <td>1.0</td>\n",
              "      <td>-4.964</td>\n",
              "      <td>1</td>\n",
              "      <td>0.0485</td>\n",
              "      <td>0.017100</td>\n",
              "      <td>NaN</td>\n",
              "      <td>0.0849</td>\n",
              "      <td>0.8990</td>\n",
              "      <td>134.071</td>\n",
              "      <td>234596.0</td>\n",
              "      <td>4</td>\n",
              "      <td>5</td>\n",
              "    </tr>\n",
              "    <tr>\n",
              "      <th>1</th>\n",
              "      <td>Boston</td>\n",
              "      <td>Hitch a Ride</td>\n",
              "      <td>54.0</td>\n",
              "      <td>0.382</td>\n",
              "      <td>0.814</td>\n",
              "      <td>3.0</td>\n",
              "      <td>-7.230</td>\n",
              "      <td>1</td>\n",
              "      <td>0.0406</td>\n",
              "      <td>0.001100</td>\n",
              "      <td>0.004010</td>\n",
              "      <td>0.1010</td>\n",
              "      <td>0.5690</td>\n",
              "      <td>116.454</td>\n",
              "      <td>251733.0</td>\n",
              "      <td>4</td>\n",
              "      <td>10</td>\n",
              "    </tr>\n",
              "    <tr>\n",
              "      <th>2</th>\n",
              "      <td>The Raincoats</td>\n",
              "      <td>No Side to Fall In</td>\n",
              "      <td>35.0</td>\n",
              "      <td>0.434</td>\n",
              "      <td>0.614</td>\n",
              "      <td>6.0</td>\n",
              "      <td>-8.334</td>\n",
              "      <td>1</td>\n",
              "      <td>0.0525</td>\n",
              "      <td>0.486000</td>\n",
              "      <td>0.000196</td>\n",
              "      <td>0.3940</td>\n",
              "      <td>0.7870</td>\n",
              "      <td>147.681</td>\n",
              "      <td>109667.0</td>\n",
              "      <td>4</td>\n",
              "      <td>6</td>\n",
              "    </tr>\n",
              "    <tr>\n",
              "      <th>3</th>\n",
              "      <td>Deno</td>\n",
              "      <td>Lingo (feat. J.I &amp; Chunkz)</td>\n",
              "      <td>66.0</td>\n",
              "      <td>0.853</td>\n",
              "      <td>0.597</td>\n",
              "      <td>10.0</td>\n",
              "      <td>-6.528</td>\n",
              "      <td>0</td>\n",
              "      <td>0.0555</td>\n",
              "      <td>0.021200</td>\n",
              "      <td>NaN</td>\n",
              "      <td>0.1220</td>\n",
              "      <td>0.5690</td>\n",
              "      <td>107.033</td>\n",
              "      <td>173968.0</td>\n",
              "      <td>4</td>\n",
              "      <td>5</td>\n",
              "    </tr>\n",
              "    <tr>\n",
              "      <th>4</th>\n",
              "      <td>Red Hot Chili Peppers</td>\n",
              "      <td>Nobody Weird Like Me - Remastered</td>\n",
              "      <td>53.0</td>\n",
              "      <td>0.167</td>\n",
              "      <td>0.975</td>\n",
              "      <td>2.0</td>\n",
              "      <td>-4.279</td>\n",
              "      <td>1</td>\n",
              "      <td>0.2160</td>\n",
              "      <td>0.000169</td>\n",
              "      <td>0.016100</td>\n",
              "      <td>0.1720</td>\n",
              "      <td>0.0918</td>\n",
              "      <td>199.060</td>\n",
              "      <td>229960.0</td>\n",
              "      <td>4</td>\n",
              "      <td>10</td>\n",
              "    </tr>\n",
              "  </tbody>\n",
              "</table>\n",
              "</div>"
            ],
            "text/plain": [
              "             Artist Name                             Track Name  Popularity  \\\n",
              "0             Bruno Mars  That's What I Like (feat. Gucci Mane)        60.0   \n",
              "1                 Boston                           Hitch a Ride        54.0   \n",
              "2          The Raincoats                     No Side to Fall In        35.0   \n",
              "3                   Deno             Lingo (feat. J.I & Chunkz)        66.0   \n",
              "4  Red Hot Chili Peppers      Nobody Weird Like Me - Remastered        53.0   \n",
              "\n",
              "   danceability  energy   key  loudness  mode  speechiness  acousticness  \\\n",
              "0         0.854   0.564   1.0    -4.964     1       0.0485      0.017100   \n",
              "1         0.382   0.814   3.0    -7.230     1       0.0406      0.001100   \n",
              "2         0.434   0.614   6.0    -8.334     1       0.0525      0.486000   \n",
              "3         0.853   0.597  10.0    -6.528     0       0.0555      0.021200   \n",
              "4         0.167   0.975   2.0    -4.279     1       0.2160      0.000169   \n",
              "\n",
              "   instrumentalness  liveness  valence    tempo  duration_in min/ms  \\\n",
              "0               NaN    0.0849   0.8990  134.071            234596.0   \n",
              "1          0.004010    0.1010   0.5690  116.454            251733.0   \n",
              "2          0.000196    0.3940   0.7870  147.681            109667.0   \n",
              "3               NaN    0.1220   0.5690  107.033            173968.0   \n",
              "4          0.016100    0.1720   0.0918  199.060            229960.0   \n",
              "\n",
              "   time_signature  Class  \n",
              "0               4      5  \n",
              "1               4     10  \n",
              "2               4      6  \n",
              "3               4      5  \n",
              "4               4     10  "
            ]
          },
          "execution_count": 3,
          "metadata": {},
          "output_type": "execute_result"
        }
      ],
      "source": [
        "music.head()"
      ],
      "id": "c_wcwezFojas"
    },
    {
      "cell_type": "code",
      "execution_count": null,
      "metadata": {
        "id": "_pVdUH6pojat",
        "outputId": "dab8607c-1857-4c7a-9c4b-be9b83b22843"
      },
      "outputs": [
        {
          "data": {
            "text/plain": [
              "(17996, 17)"
            ]
          },
          "execution_count": 4,
          "metadata": {},
          "output_type": "execute_result"
        }
      ],
      "source": [
        "music.shape"
      ],
      "id": "_pVdUH6pojat"
    },
    {
      "cell_type": "code",
      "execution_count": null,
      "metadata": {
        "id": "Yx_JPETvojat",
        "outputId": "7e06a346-3b7d-4afa-d3d6-6bb4b1314d89"
      },
      "outputs": [
        {
          "data": {
            "text/plain": [
              "Artist Name              0\n",
              "Track Name               0\n",
              "Popularity             428\n",
              "danceability             0\n",
              "energy                   0\n",
              "key                   2014\n",
              "loudness                 0\n",
              "mode                     0\n",
              "speechiness              0\n",
              "acousticness             0\n",
              "instrumentalness      4377\n",
              "liveness                 0\n",
              "valence                  0\n",
              "tempo                    0\n",
              "duration_in min/ms       0\n",
              "time_signature           0\n",
              "Class                    0\n",
              "dtype: int64"
            ]
          },
          "execution_count": 5,
          "metadata": {},
          "output_type": "execute_result"
        }
      ],
      "source": [
        "music.isnull().sum()"
      ],
      "id": "Yx_JPETvojat"
    },
    {
      "cell_type": "code",
      "execution_count": null,
      "metadata": {
        "id": "MDpFLXqTojau",
        "outputId": "bdabb274-b3f9-40ea-c6d5-b07cfa7b424a"
      },
      "outputs": [
        {
          "data": {
            "text/plain": [
              "(11813, 17)"
            ]
          },
          "execution_count": 6,
          "metadata": {},
          "output_type": "execute_result"
        }
      ],
      "source": [
        "music = music.dropna(subset=['Popularity', 'key','instrumentalness'])\n",
        "music.shape"
      ],
      "id": "MDpFLXqTojau"
    },
    {
      "cell_type": "code",
      "execution_count": null,
      "metadata": {
        "id": "oeIPZWDXojau",
        "outputId": "d293b0a4-3cd3-46e9-d3b8-345934489c5c"
      },
      "outputs": [
        {
          "data": {
            "text/html": [
              "<div>\n",
              "<style scoped>\n",
              "    .dataframe tbody tr th:only-of-type {\n",
              "        vertical-align: middle;\n",
              "    }\n",
              "\n",
              "    .dataframe tbody tr th {\n",
              "        vertical-align: top;\n",
              "    }\n",
              "\n",
              "    .dataframe thead th {\n",
              "        text-align: right;\n",
              "    }\n",
              "</style>\n",
              "<table border=\"1\" class=\"dataframe\">\n",
              "  <thead>\n",
              "    <tr style=\"text-align: right;\">\n",
              "      <th></th>\n",
              "      <th>Artist Name</th>\n",
              "      <th>Track Name</th>\n",
              "      <th>Popularity</th>\n",
              "      <th>danceability</th>\n",
              "      <th>energy</th>\n",
              "      <th>key</th>\n",
              "      <th>loudness</th>\n",
              "      <th>mode</th>\n",
              "      <th>speechiness</th>\n",
              "      <th>acousticness</th>\n",
              "      <th>instrumentalness</th>\n",
              "      <th>liveness</th>\n",
              "      <th>valence</th>\n",
              "      <th>tempo</th>\n",
              "      <th>duration_in min/ms</th>\n",
              "      <th>time_signature</th>\n",
              "      <th>Class</th>\n",
              "    </tr>\n",
              "  </thead>\n",
              "  <tbody>\n",
              "    <tr>\n",
              "      <th>count</th>\n",
              "      <td>11813</td>\n",
              "      <td>11813</td>\n",
              "      <td>11813.000000</td>\n",
              "      <td>11813.000000</td>\n",
              "      <td>11813.000000</td>\n",
              "      <td>11813.000000</td>\n",
              "      <td>11813.000000</td>\n",
              "      <td>11813.000000</td>\n",
              "      <td>11813.000000</td>\n",
              "      <td>11813.000000</td>\n",
              "      <td>11813.000000</td>\n",
              "      <td>11813.000000</td>\n",
              "      <td>11813.000000</td>\n",
              "      <td>11813.000000</td>\n",
              "      <td>1.181300e+04</td>\n",
              "      <td>11813.000000</td>\n",
              "      <td>11813.000000</td>\n",
              "    </tr>\n",
              "    <tr>\n",
              "      <th>unique</th>\n",
              "      <td>6703</td>\n",
              "      <td>10002</td>\n",
              "      <td>NaN</td>\n",
              "      <td>NaN</td>\n",
              "      <td>NaN</td>\n",
              "      <td>NaN</td>\n",
              "      <td>NaN</td>\n",
              "      <td>NaN</td>\n",
              "      <td>NaN</td>\n",
              "      <td>NaN</td>\n",
              "      <td>NaN</td>\n",
              "      <td>NaN</td>\n",
              "      <td>NaN</td>\n",
              "      <td>NaN</td>\n",
              "      <td>NaN</td>\n",
              "      <td>NaN</td>\n",
              "      <td>NaN</td>\n",
              "    </tr>\n",
              "    <tr>\n",
              "      <th>top</th>\n",
              "      <td>The Rolling Stones</td>\n",
              "      <td>Fire</td>\n",
              "      <td>NaN</td>\n",
              "      <td>NaN</td>\n",
              "      <td>NaN</td>\n",
              "      <td>NaN</td>\n",
              "      <td>NaN</td>\n",
              "      <td>NaN</td>\n",
              "      <td>NaN</td>\n",
              "      <td>NaN</td>\n",
              "      <td>NaN</td>\n",
              "      <td>NaN</td>\n",
              "      <td>NaN</td>\n",
              "      <td>NaN</td>\n",
              "      <td>NaN</td>\n",
              "      <td>NaN</td>\n",
              "      <td>NaN</td>\n",
              "    </tr>\n",
              "    <tr>\n",
              "      <th>freq</th>\n",
              "      <td>30</td>\n",
              "      <td>8</td>\n",
              "      <td>NaN</td>\n",
              "      <td>NaN</td>\n",
              "      <td>NaN</td>\n",
              "      <td>NaN</td>\n",
              "      <td>NaN</td>\n",
              "      <td>NaN</td>\n",
              "      <td>NaN</td>\n",
              "      <td>NaN</td>\n",
              "      <td>NaN</td>\n",
              "      <td>NaN</td>\n",
              "      <td>NaN</td>\n",
              "      <td>NaN</td>\n",
              "      <td>NaN</td>\n",
              "      <td>NaN</td>\n",
              "      <td>NaN</td>\n",
              "    </tr>\n",
              "    <tr>\n",
              "      <th>mean</th>\n",
              "      <td>NaN</td>\n",
              "      <td>NaN</td>\n",
              "      <td>43.100652</td>\n",
              "      <td>0.524944</td>\n",
              "      <td>0.670305</td>\n",
              "      <td>5.972573</td>\n",
              "      <td>-8.215807</td>\n",
              "      <td>0.623974</td>\n",
              "      <td>0.071107</td>\n",
              "      <td>0.239968</td>\n",
              "      <td>0.178991</td>\n",
              "      <td>0.195096</td>\n",
              "      <td>0.470115</td>\n",
              "      <td>122.928641</td>\n",
              "      <td>2.129446e+05</td>\n",
              "      <td>3.913824</td>\n",
              "      <td>6.622619</td>\n",
              "    </tr>\n",
              "    <tr>\n",
              "      <th>std</th>\n",
              "      <td>NaN</td>\n",
              "      <td>NaN</td>\n",
              "      <td>16.568500</td>\n",
              "      <td>0.166013</td>\n",
              "      <td>0.242324</td>\n",
              "      <td>3.167348</td>\n",
              "      <td>4.239682</td>\n",
              "      <td>0.484407</td>\n",
              "      <td>0.067783</td>\n",
              "      <td>0.319142</td>\n",
              "      <td>0.303809</td>\n",
              "      <td>0.159743</td>\n",
              "      <td>0.244635</td>\n",
              "      <td>29.430883</td>\n",
              "      <td>1.158561e+05</td>\n",
              "      <td>0.381625</td>\n",
              "      <td>3.246656</td>\n",
              "    </tr>\n",
              "    <tr>\n",
              "      <th>min</th>\n",
              "      <td>NaN</td>\n",
              "      <td>NaN</td>\n",
              "      <td>1.000000</td>\n",
              "      <td>0.064400</td>\n",
              "      <td>0.000020</td>\n",
              "      <td>1.000000</td>\n",
              "      <td>-36.214000</td>\n",
              "      <td>0.000000</td>\n",
              "      <td>0.022500</td>\n",
              "      <td>0.000000</td>\n",
              "      <td>0.000001</td>\n",
              "      <td>0.011900</td>\n",
              "      <td>0.018300</td>\n",
              "      <td>30.557000</td>\n",
              "      <td>5.016500e-01</td>\n",
              "      <td>1.000000</td>\n",
              "      <td>0.000000</td>\n",
              "    </tr>\n",
              "    <tr>\n",
              "      <th>25%</th>\n",
              "      <td>NaN</td>\n",
              "      <td>NaN</td>\n",
              "      <td>32.000000</td>\n",
              "      <td>0.413000</td>\n",
              "      <td>0.513000</td>\n",
              "      <td>3.000000</td>\n",
              "      <td>-9.994000</td>\n",
              "      <td>0.000000</td>\n",
              "      <td>0.034600</td>\n",
              "      <td>0.001890</td>\n",
              "      <td>0.000096</td>\n",
              "      <td>0.096900</td>\n",
              "      <td>0.271000</td>\n",
              "      <td>100.001000</td>\n",
              "      <td>1.755330e+05</td>\n",
              "      <td>4.000000</td>\n",
              "      <td>5.000000</td>\n",
              "    </tr>\n",
              "    <tr>\n",
              "      <th>50%</th>\n",
              "      <td>NaN</td>\n",
              "      <td>NaN</td>\n",
              "      <td>42.000000</td>\n",
              "      <td>0.527000</td>\n",
              "      <td>0.716000</td>\n",
              "      <td>6.000000</td>\n",
              "      <td>-7.314000</td>\n",
              "      <td>1.000000</td>\n",
              "      <td>0.046300</td>\n",
              "      <td>0.056100</td>\n",
              "      <td>0.004290</td>\n",
              "      <td>0.127000</td>\n",
              "      <td>0.462000</td>\n",
              "      <td>120.046000</td>\n",
              "      <td>2.178830e+05</td>\n",
              "      <td>4.000000</td>\n",
              "      <td>8.000000</td>\n",
              "    </tr>\n",
              "    <tr>\n",
              "      <th>75%</th>\n",
              "      <td>NaN</td>\n",
              "      <td>NaN</td>\n",
              "      <td>54.000000</td>\n",
              "      <td>0.638000</td>\n",
              "      <td>0.875000</td>\n",
              "      <td>9.000000</td>\n",
              "      <td>-5.341000</td>\n",
              "      <td>1.000000</td>\n",
              "      <td>0.076500</td>\n",
              "      <td>0.421000</td>\n",
              "      <td>0.209000</td>\n",
              "      <td>0.256000</td>\n",
              "      <td>0.660000</td>\n",
              "      <td>141.877000</td>\n",
              "      <td>2.635870e+05</td>\n",
              "      <td>4.000000</td>\n",
              "      <td>10.000000</td>\n",
              "    </tr>\n",
              "    <tr>\n",
              "      <th>max</th>\n",
              "      <td>NaN</td>\n",
              "      <td>NaN</td>\n",
              "      <td>98.000000</td>\n",
              "      <td>0.989000</td>\n",
              "      <td>1.000000</td>\n",
              "      <td>11.000000</td>\n",
              "      <td>1.355000</td>\n",
              "      <td>1.000000</td>\n",
              "      <td>0.935000</td>\n",
              "      <td>0.996000</td>\n",
              "      <td>0.996000</td>\n",
              "      <td>0.992000</td>\n",
              "      <td>0.980000</td>\n",
              "      <td>217.416000</td>\n",
              "      <td>1.477187e+06</td>\n",
              "      <td>5.000000</td>\n",
              "      <td>10.000000</td>\n",
              "    </tr>\n",
              "  </tbody>\n",
              "</table>\n",
              "</div>"
            ],
            "text/plain": [
              "               Artist Name Track Name    Popularity  danceability  \\\n",
              "count                11813      11813  11813.000000  11813.000000   \n",
              "unique                6703      10002           NaN           NaN   \n",
              "top     The Rolling Stones       Fire           NaN           NaN   \n",
              "freq                    30          8           NaN           NaN   \n",
              "mean                   NaN        NaN     43.100652      0.524944   \n",
              "std                    NaN        NaN     16.568500      0.166013   \n",
              "min                    NaN        NaN      1.000000      0.064400   \n",
              "25%                    NaN        NaN     32.000000      0.413000   \n",
              "50%                    NaN        NaN     42.000000      0.527000   \n",
              "75%                    NaN        NaN     54.000000      0.638000   \n",
              "max                    NaN        NaN     98.000000      0.989000   \n",
              "\n",
              "              energy           key      loudness          mode   speechiness  \\\n",
              "count   11813.000000  11813.000000  11813.000000  11813.000000  11813.000000   \n",
              "unique           NaN           NaN           NaN           NaN           NaN   \n",
              "top              NaN           NaN           NaN           NaN           NaN   \n",
              "freq             NaN           NaN           NaN           NaN           NaN   \n",
              "mean        0.670305      5.972573     -8.215807      0.623974      0.071107   \n",
              "std         0.242324      3.167348      4.239682      0.484407      0.067783   \n",
              "min         0.000020      1.000000    -36.214000      0.000000      0.022500   \n",
              "25%         0.513000      3.000000     -9.994000      0.000000      0.034600   \n",
              "50%         0.716000      6.000000     -7.314000      1.000000      0.046300   \n",
              "75%         0.875000      9.000000     -5.341000      1.000000      0.076500   \n",
              "max         1.000000     11.000000      1.355000      1.000000      0.935000   \n",
              "\n",
              "        acousticness  instrumentalness      liveness       valence  \\\n",
              "count   11813.000000      11813.000000  11813.000000  11813.000000   \n",
              "unique           NaN               NaN           NaN           NaN   \n",
              "top              NaN               NaN           NaN           NaN   \n",
              "freq             NaN               NaN           NaN           NaN   \n",
              "mean        0.239968          0.178991      0.195096      0.470115   \n",
              "std         0.319142          0.303809      0.159743      0.244635   \n",
              "min         0.000000          0.000001      0.011900      0.018300   \n",
              "25%         0.001890          0.000096      0.096900      0.271000   \n",
              "50%         0.056100          0.004290      0.127000      0.462000   \n",
              "75%         0.421000          0.209000      0.256000      0.660000   \n",
              "max         0.996000          0.996000      0.992000      0.980000   \n",
              "\n",
              "               tempo  duration_in min/ms  time_signature         Class  \n",
              "count   11813.000000        1.181300e+04    11813.000000  11813.000000  \n",
              "unique           NaN                 NaN             NaN           NaN  \n",
              "top              NaN                 NaN             NaN           NaN  \n",
              "freq             NaN                 NaN             NaN           NaN  \n",
              "mean      122.928641        2.129446e+05        3.913824      6.622619  \n",
              "std        29.430883        1.158561e+05        0.381625      3.246656  \n",
              "min        30.557000        5.016500e-01        1.000000      0.000000  \n",
              "25%       100.001000        1.755330e+05        4.000000      5.000000  \n",
              "50%       120.046000        2.178830e+05        4.000000      8.000000  \n",
              "75%       141.877000        2.635870e+05        4.000000     10.000000  \n",
              "max       217.416000        1.477187e+06        5.000000     10.000000  "
            ]
          },
          "execution_count": 7,
          "metadata": {},
          "output_type": "execute_result"
        }
      ],
      "source": [
        "music.describe(include = 'all')"
      ],
      "id": "oeIPZWDXojau"
    },
    {
      "cell_type": "code",
      "execution_count": null,
      "metadata": {
        "id": "AJrAhEqNojav",
        "outputId": "e753f971-c3e2-415c-9ae2-95f7af538696"
      },
      "outputs": [
        {
          "data": {
            "text/plain": [
              "Class\n",
              "0      386\n",
              "1     1037\n",
              "2      956\n",
              "3      270\n",
              "4      148\n",
              "5      517\n",
              "6     2039\n",
              "7      464\n",
              "8     1523\n",
              "9     1099\n",
              "10    3374\n",
              "dtype: int64"
            ]
          },
          "execution_count": 8,
          "metadata": {},
          "output_type": "execute_result"
        }
      ],
      "source": [
        "music.groupby('Class').size()"
      ],
      "id": "AJrAhEqNojav"
    },
    {
      "cell_type": "code",
      "execution_count": null,
      "metadata": {
        "id": "elfE-mWZojaw",
        "outputId": "1b1ecf9f-579d-4237-812f-86484ed5acf6"
      },
      "outputs": [
        {
          "data": {
            "text/html": [
              "<div>\n",
              "<style scoped>\n",
              "    .dataframe tbody tr th:only-of-type {\n",
              "        vertical-align: middle;\n",
              "    }\n",
              "\n",
              "    .dataframe tbody tr th {\n",
              "        vertical-align: top;\n",
              "    }\n",
              "\n",
              "    .dataframe thead th {\n",
              "        text-align: right;\n",
              "    }\n",
              "</style>\n",
              "<table border=\"1\" class=\"dataframe\">\n",
              "  <thead>\n",
              "    <tr style=\"text-align: right;\">\n",
              "      <th></th>\n",
              "      <th>Popularity</th>\n",
              "      <th>danceability</th>\n",
              "      <th>energy</th>\n",
              "      <th>loudness</th>\n",
              "      <th>speechiness</th>\n",
              "      <th>acousticness</th>\n",
              "      <th>instrumentalness</th>\n",
              "      <th>liveness</th>\n",
              "      <th>valence</th>\n",
              "      <th>tempo</th>\n",
              "      <th>duration_in min/ms</th>\n",
              "    </tr>\n",
              "  </thead>\n",
              "  <tbody>\n",
              "    <tr>\n",
              "      <th>1</th>\n",
              "      <td>54.0</td>\n",
              "      <td>0.382</td>\n",
              "      <td>0.814</td>\n",
              "      <td>-7.230</td>\n",
              "      <td>0.0406</td>\n",
              "      <td>0.001100</td>\n",
              "      <td>0.004010</td>\n",
              "      <td>0.1010</td>\n",
              "      <td>0.5690</td>\n",
              "      <td>116.454</td>\n",
              "      <td>251733.0</td>\n",
              "    </tr>\n",
              "    <tr>\n",
              "      <th>2</th>\n",
              "      <td>35.0</td>\n",
              "      <td>0.434</td>\n",
              "      <td>0.614</td>\n",
              "      <td>-8.334</td>\n",
              "      <td>0.0525</td>\n",
              "      <td>0.486000</td>\n",
              "      <td>0.000196</td>\n",
              "      <td>0.3940</td>\n",
              "      <td>0.7870</td>\n",
              "      <td>147.681</td>\n",
              "      <td>109667.0</td>\n",
              "    </tr>\n",
              "    <tr>\n",
              "      <th>4</th>\n",
              "      <td>53.0</td>\n",
              "      <td>0.167</td>\n",
              "      <td>0.975</td>\n",
              "      <td>-4.279</td>\n",
              "      <td>0.2160</td>\n",
              "      <td>0.000169</td>\n",
              "      <td>0.016100</td>\n",
              "      <td>0.1720</td>\n",
              "      <td>0.0918</td>\n",
              "      <td>199.060</td>\n",
              "      <td>229960.0</td>\n",
              "    </tr>\n",
              "    <tr>\n",
              "      <th>5</th>\n",
              "      <td>53.0</td>\n",
              "      <td>0.235</td>\n",
              "      <td>0.977</td>\n",
              "      <td>0.878</td>\n",
              "      <td>0.1070</td>\n",
              "      <td>0.003530</td>\n",
              "      <td>0.006040</td>\n",
              "      <td>0.1720</td>\n",
              "      <td>0.2410</td>\n",
              "      <td>152.952</td>\n",
              "      <td>208133.0</td>\n",
              "    </tr>\n",
              "    <tr>\n",
              "      <th>6</th>\n",
              "      <td>48.0</td>\n",
              "      <td>0.674</td>\n",
              "      <td>0.658</td>\n",
              "      <td>-9.647</td>\n",
              "      <td>0.1040</td>\n",
              "      <td>0.404000</td>\n",
              "      <td>0.000001</td>\n",
              "      <td>0.0981</td>\n",
              "      <td>0.6770</td>\n",
              "      <td>143.292</td>\n",
              "      <td>329387.0</td>\n",
              "    </tr>\n",
              "  </tbody>\n",
              "</table>\n",
              "</div>"
            ],
            "text/plain": [
              "   Popularity  danceability  energy  loudness  speechiness  acousticness  \\\n",
              "1        54.0         0.382   0.814    -7.230       0.0406      0.001100   \n",
              "2        35.0         0.434   0.614    -8.334       0.0525      0.486000   \n",
              "4        53.0         0.167   0.975    -4.279       0.2160      0.000169   \n",
              "5        53.0         0.235   0.977     0.878       0.1070      0.003530   \n",
              "6        48.0         0.674   0.658    -9.647       0.1040      0.404000   \n",
              "\n",
              "   instrumentalness  liveness  valence    tempo  duration_in min/ms  \n",
              "1          0.004010    0.1010   0.5690  116.454            251733.0  \n",
              "2          0.000196    0.3940   0.7870  147.681            109667.0  \n",
              "4          0.016100    0.1720   0.0918  199.060            229960.0  \n",
              "5          0.006040    0.1720   0.2410  152.952            208133.0  \n",
              "6          0.000001    0.0981   0.6770  143.292            329387.0  "
            ]
          },
          "execution_count": 9,
          "metadata": {},
          "output_type": "execute_result"
        }
      ],
      "source": [
        "music1 = music.drop(columns=['Artist Name','Track Name','mode','Class','time_signature','key'])\n",
        "music1.head()"
      ],
      "id": "elfE-mWZojaw"
    },
    {
      "cell_type": "code",
      "execution_count": null,
      "metadata": {
        "id": "g2Qd68B9ojaw"
      },
      "outputs": [],
      "source": [
        "from sklearn.preprocessing import StandardScaler\n",
        "sc = StandardScaler()\n",
        "music1_scale = pd.DataFrame(sc.fit_transform(music1), columns=music1.columns)"
      ],
      "id": "g2Qd68B9ojaw"
    },
    {
      "cell_type": "code",
      "execution_count": null,
      "metadata": {
        "id": "zTH2p3K0ojax"
      },
      "outputs": [],
      "source": [
        "music1_corr = music1_scale.corr()"
      ],
      "id": "zTH2p3K0ojax"
    },
    {
      "cell_type": "code",
      "execution_count": null,
      "metadata": {
        "id": "PcVHFVtIojax",
        "outputId": "1c424e23-0151-4bde-efdc-6f3f3beb648e"
      },
      "outputs": [
        {
          "data": {
            "image/png": "[encoded data removed]",
            "text/plain": [
              "<Figure size 432x288 with 2 Axes>"
            ]
          },
          "metadata": {
            "needs_background": "light"
          },
          "output_type": "display_data"
        }
      ],
      "source": [
        "sns.heatmap(music1_corr,annot=True)\n",
        "plt.show()"
      ],
      "id": "PcVHFVtIojax"
    },
    {
      "cell_type": "code",
      "execution_count": null,
      "metadata": {
        "id": "-ABqDLd2ojax",
        "outputId": "33a48bd2-952d-4e84-b648-36570249646f"
      },
      "outputs": [
        {
          "data": {
            "text/html": [
              "<div>\n",
              "<style scoped>\n",
              "    .dataframe tbody tr th:only-of-type {\n",
              "        vertical-align: middle;\n",
              "    }\n",
              "\n",
              "    .dataframe tbody tr th {\n",
              "        vertical-align: top;\n",
              "    }\n",
              "\n",
              "    .dataframe thead th {\n",
              "        text-align: right;\n",
              "    }\n",
              "</style>\n",
              "<table border=\"1\" class=\"dataframe\">\n",
              "  <thead>\n",
              "    <tr style=\"text-align: right;\">\n",
              "      <th></th>\n",
              "      <th>Popularity</th>\n",
              "      <th>danceability</th>\n",
              "      <th>energy</th>\n",
              "      <th>loudness</th>\n",
              "      <th>speechiness</th>\n",
              "      <th>acousticness</th>\n",
              "      <th>instrumentalness</th>\n",
              "      <th>liveness</th>\n",
              "      <th>valence</th>\n",
              "      <th>tempo</th>\n",
              "      <th>duration_in min/ms</th>\n",
              "    </tr>\n",
              "  </thead>\n",
              "  <tbody>\n",
              "    <tr>\n",
              "      <th>0</th>\n",
              "      <td>0.657863</td>\n",
              "      <td>-0.861080</td>\n",
              "      <td>0.593013</td>\n",
              "      <td>0.232529</td>\n",
              "      <td>-0.450090</td>\n",
              "      <td>-0.748501</td>\n",
              "      <td>-0.575982</td>\n",
              "      <td>-0.589070</td>\n",
              "      <td>0.404232</td>\n",
              "      <td>-0.220004</td>\n",
              "      <td>0.334812</td>\n",
              "    </tr>\n",
              "    <tr>\n",
              "      <th>1</th>\n",
              "      <td>-0.488940</td>\n",
              "      <td>-0.547837</td>\n",
              "      <td>-0.232364</td>\n",
              "      <td>-0.027879</td>\n",
              "      <td>-0.274522</td>\n",
              "      <td>0.770948</td>\n",
              "      <td>-0.588537</td>\n",
              "      <td>1.245203</td>\n",
              "      <td>1.295395</td>\n",
              "      <td>0.841069</td>\n",
              "      <td>-0.891468</td>\n",
              "    </tr>\n",
              "    <tr>\n",
              "      <th>2</th>\n",
              "      <td>0.597505</td>\n",
              "      <td>-2.156218</td>\n",
              "      <td>1.257441</td>\n",
              "      <td>0.928601</td>\n",
              "      <td>2.137688</td>\n",
              "      <td>-0.751419</td>\n",
              "      <td>-0.536186</td>\n",
              "      <td>-0.144588</td>\n",
              "      <td>-1.546515</td>\n",
              "      <td>2.586894</td>\n",
              "      <td>0.146873</td>\n",
              "    </tr>\n",
              "    <tr>\n",
              "      <th>3</th>\n",
              "      <td>0.597505</td>\n",
              "      <td>-1.746593</td>\n",
              "      <td>1.265694</td>\n",
              "      <td>2.145018</td>\n",
              "      <td>0.529548</td>\n",
              "      <td>-0.740887</td>\n",
              "      <td>-0.569300</td>\n",
              "      <td>-0.144588</td>\n",
              "      <td>-0.936600</td>\n",
              "      <td>1.020174</td>\n",
              "      <td>-0.041532</td>\n",
              "    </tr>\n",
              "    <tr>\n",
              "      <th>4</th>\n",
              "      <td>0.295715</td>\n",
              "      <td>0.897898</td>\n",
              "      <td>-0.050781</td>\n",
              "      <td>-0.337585</td>\n",
              "      <td>0.485287</td>\n",
              "      <td>0.513999</td>\n",
              "      <td>-0.589178</td>\n",
              "      <td>-0.607225</td>\n",
              "      <td>0.845726</td>\n",
              "      <td>0.691934</td>\n",
              "      <td>1.005103</td>\n",
              "    </tr>\n",
              "  </tbody>\n",
              "</table>\n",
              "</div>"
            ],
            "text/plain": [
              "   Popularity  danceability    energy  loudness  speechiness  acousticness  \\\n",
              "0    0.657863     -0.861080  0.593013  0.232529    -0.450090     -0.748501   \n",
              "1   -0.488940     -0.547837 -0.232364 -0.027879    -0.274522      0.770948   \n",
              "2    0.597505     -2.156218  1.257441  0.928601     2.137688     -0.751419   \n",
              "3    0.597505     -1.746593  1.265694  2.145018     0.529548     -0.740887   \n",
              "4    0.295715      0.897898 -0.050781 -0.337585     0.485287      0.513999   \n",
              "\n",
              "   instrumentalness  liveness   valence     tempo  duration_in min/ms  \n",
              "0         -0.575982 -0.589070  0.404232 -0.220004            0.334812  \n",
              "1         -0.588537  1.245203  1.295395  0.841069           -0.891468  \n",
              "2         -0.536186 -0.144588 -1.546515  2.586894            0.146873  \n",
              "3         -0.569300 -0.144588 -0.936600  1.020174           -0.041532  \n",
              "4         -0.589178 -0.607225  0.845726  0.691934            1.005103  "
            ]
          },
          "execution_count": 13,
          "metadata": {},
          "output_type": "execute_result"
        }
      ],
      "source": [
        "music1_scale.head()"
      ],
      "id": "-ABqDLd2ojax"
    },
    {
      "cell_type": "code",
      "execution_count": null,
      "metadata": {
        "id": "EJ3yielzojay"
      },
      "outputs": [],
      "source": [
        "music1_scale['Class'] = music['Class'].tolist() \n",
        "music1_scale['key'] = music['key'].tolist() \n",
        "music1_scale['mode'] = music['mode'].tolist() \n",
        "music1_scale['time_signature'] = music['time_signature'].tolist() "
      ],
      "id": "EJ3yielzojay"
    },
    {
      "cell_type": "code",
      "execution_count": null,
      "metadata": {
        "id": "9WNqV_ekojay",
        "outputId": "7709c15b-0010-4058-d911-0eb07405daaf"
      },
      "outputs": [
        {
          "data": {
            "image/png": "[encoded data removed]",
            "text/plain": [
              "<Figure size 1080x720 with 2 Axes>"
            ]
          },
          "metadata": {
            "needs_background": "light"
          },
          "output_type": "display_data"
        }
      ],
      "source": [
        "fig, ax = plt.subplots(ncols = 2,nrows = 1, figsize=(15, 10))\n",
        "g = sns.boxplot(data = music1_scale, x = 'Class', y='Popularity', ax = ax[0])\n",
        "g.set_title('Popularity')\n",
        "f = sns.boxplot(data = music1_scale, x = 'Class', y='danceability', ax = ax[1])\n",
        "f.set_title('danceability')\n",
        "plt.show()"
      ],
      "id": "9WNqV_ekojay"
    },
    {
      "cell_type": "code",
      "execution_count": null,
      "metadata": {
        "id": "B2wAaJ7Cojay",
        "outputId": "fb80f4f0-d6c1-4f54-957b-fc412af822bc"
      },
      "outputs": [
        {
          "data": {
            "image/png": "[encoded data removed]",
            "text/plain": [
              "<Figure size 1080x720 with 2 Axes>"
            ]
          },
          "metadata": {
            "needs_background": "light"
          },
          "output_type": "display_data"
        }
      ],
      "source": [
        "fig, ax = plt.subplots(ncols = 2,nrows = 1, figsize=(15, 10))\n",
        "g = sns.histplot(data = music1_scale, x = 'Popularity',kde=True,ax = ax[0])\n",
        "g.set(xlim=(-3,3.5))\n",
        "sns.histplot(data = music1_scale, x = 'danceability',kde=True,ax = ax[1])\n",
        "plt.show()"
      ],
      "id": "B2wAaJ7Cojay"
    },
    {
      "cell_type": "code",
      "execution_count": null,
      "metadata": {
        "id": "eiwttDgkojaz",
        "outputId": "92c8cfc6-0622-4b0f-8af5-8892daec3e3b"
      },
      "outputs": [
        {
          "data": {
            "text/plain": [
              "<AxesSubplot:xlabel='acousticness', ylabel='Count'>"
            ]
          },
          "execution_count": 17,
          "metadata": {},
          "output_type": "execute_result"
        },
        {
          "data": {
            "image/png": "[encoded data removed]",
            "text/plain": [
              "<Figure size 432x288 with 1 Axes>"
            ]
          },
          "metadata": {
            "needs_background": "light"
          },
          "output_type": "display_data"
        }
      ],
      "source": [
        "sns.histplot(data = music1_scale, x = 'acousticness',kde=True)"
      ],
      "id": "eiwttDgkojaz"
    },
    {
      "cell_type": "markdown",
      "metadata": {
        "id": "ba5dm5Luojaz"
      },
      "source": [
        "- logistic regression\n",
        "- KNN\n",
        "- decision tree\n",
        "- rf \n",
        "- NN\n",
        "- svm\n",
        "- pca\n",
        "- sdm\n",
        "- hierarchical clustering"
      ],
      "id": "ba5dm5Luojaz"
    },
    {
      "cell_type": "code",
      "execution_count": null,
      "metadata": {
        "id": "iQgTOktAoja0",
        "outputId": "d71614ff-f28b-4c12-93fe-f6c2fce992e0"
      },
      "outputs": [
        {
          "data": {
            "text/plain": [
              "10    3374\n",
              "6     2039\n",
              "8     1523\n",
              "9     1099\n",
              "1     1037\n",
              "2      956\n",
              "5      517\n",
              "7      464\n",
              "0      386\n",
              "3      270\n",
              "4      148\n",
              "Name: Class, dtype: int64"
            ]
          },
          "execution_count": 18,
          "metadata": {},
          "output_type": "execute_result"
        }
      ],
      "source": [
        "music1_scale.Class.value_counts()"
      ],
      "id": "iQgTOktAoja0"
    },
    {
      "cell_type": "code",
      "execution_count": null,
      "metadata": {
        "id": "o9toieWioja1"
      },
      "outputs": [],
      "source": [
        "music1_scale.loc[music1_scale.Class == 10, 'class'] = 0 # Rock Music\n",
        "music1_scale.loc[music1_scale.Class == 6, 'class'] = 1 # Indie Music Genre\n",
        "music1_scale.loc[music1_scale.Class == 8, 'class'] = 2 # Metal Music Genre\n",
        "# music1_scale.loc[music1_scale.Class == 9, 'class'] = 3\n",
        "# music1_scale.loc[music1_scale.Class == 1, 'class'] = 4\n",
        "# music1_scale['class'].fillna(3,inplace = True)"
      ],
      "id": "o9toieWioja1"
    },
    {
      "cell_type": "code",
      "execution_count": null,
      "metadata": {
        "id": "K83zfNtEoja1"
      },
      "outputs": [],
      "source": [
        "music1_scale = music1_scale.dropna()"
      ],
      "id": "K83zfNtEoja1"
    },
    {
      "cell_type": "code",
      "execution_count": null,
      "metadata": {
        "id": "6PC0HmVYoja1"
      },
      "outputs": [],
      "source": [
        "music1_scale = music1_scale.drop('Class', axis=1)"
      ],
      "id": "6PC0HmVYoja1"
    },
    {
      "cell_type": "code",
      "execution_count": null,
      "metadata": {
        "id": "N6Dk8Pn8oja1",
        "outputId": "d119add5-da38-42fc-d631-ec9f2f69ef17"
      },
      "outputs": [
        {
          "data": {
            "text/plain": [
              "6936"
            ]
          },
          "execution_count": 22,
          "metadata": {},
          "output_type": "execute_result"
        }
      ],
      "source": [
        "len(music1_scale)"
      ],
      "id": "N6Dk8Pn8oja1"
    },
    {
      "cell_type": "code",
      "execution_count": null,
      "metadata": {
        "id": "LegenZceoja1"
      },
      "outputs": [],
      "source": [
        "from sklearn.model_selection import StratifiedShuffleSplit\n",
        "split = StratifiedShuffleSplit(n_splits=1, test_size=0.2, random_state=42)\n",
        "for train_index, test_index in split.split(music1_scale, music1_scale[\"class\"]):\n",
        "    strat_train_set = music1_scale.iloc[train_index]\n",
        "    strat_test_set = music1_scale.iloc[test_index]"
      ],
      "id": "LegenZceoja1"
    },
    {
      "cell_type": "code",
      "execution_count": null,
      "metadata": {
        "id": "amPvuV-noja2"
      },
      "outputs": [],
      "source": [
        "strat_train_set = strat_train_set.reset_index(drop = True)\n",
        "strat_test_set = strat_test_set.reset_index(drop = True)"
      ],
      "id": "amPvuV-noja2"
    },
    {
      "cell_type": "code",
      "execution_count": null,
      "metadata": {
        "id": "FBpK8w85oja2"
      },
      "outputs": [],
      "source": [
        "train_X = strat_train_set.drop('class', axis = 1)\n",
        "test_X = strat_test_set.drop('class', axis = 1)\n",
        "train_y = strat_train_set['class']\n",
        "test_y = strat_test_set['class']"
      ],
      "id": "FBpK8w85oja2"
    },
    {
      "cell_type": "code",
      "execution_count": null,
      "metadata": {
        "id": "uiUlQHUAoja2",
        "outputId": "440c91b4-6833-44e3-d62e-4d6b8e255add"
      },
      "outputs": [
        {
          "data": {
            "text/plain": [
              "array([1., 0., 2.])"
            ]
          },
          "execution_count": 26,
          "metadata": {},
          "output_type": "execute_result"
        }
      ],
      "source": [
        "train_y.unique()"
      ],
      "id": "uiUlQHUAoja2"
    },
    {
      "cell_type": "markdown",
      "metadata": {
        "id": "QQslXoi4oja2"
      },
      "source": [
        "### KNN"
      ],
      "id": "QQslXoi4oja2"
    },
    {
      "cell_type": "code",
      "execution_count": null,
      "metadata": {
        "id": "r2u75ZvOoja2"
      },
      "outputs": [],
      "source": [
        "from sklearn.neighbors import KNeighborsClassifier\n",
        "knn_model = KNeighborsClassifier(n_neighbors=5)\n",
        "\n",
        "knn_model.fit(train_X, train_y)\n",
        "pred_y = knn_model.predict(test_X)\n",
        "train_knn = knn_model.score(train_X, train_y)\n",
        "test_knn = knn_model.score(test_X, test_y)"
      ],
      "id": "r2u75ZvOoja2"
    },
    {
      "cell_type": "code",
      "execution_count": null,
      "metadata": {
        "id": "-ECrZ4Q0oja3",
        "outputId": "33dbfa98-f770-4b8d-9a3a-16bfbaffbc5a"
      },
      "outputs": [
        {
          "data": {
            "text/plain": [
              "0.6955659697188176"
            ]
          },
          "execution_count": 28,
          "metadata": {},
          "output_type": "execute_result"
        }
      ],
      "source": [
        "train_knn"
      ],
      "id": "-ECrZ4Q0oja3"
    },
    {
      "cell_type": "code",
      "execution_count": null,
      "metadata": {
        "id": "-05HzaRAoja3",
        "outputId": "b8750081-4e0b-483e-c8a5-27a0ce137763"
      },
      "outputs": [
        {
          "data": {
            "text/plain": [
              "0.5734870317002881"
            ]
          },
          "execution_count": 29,
          "metadata": {},
          "output_type": "execute_result"
        }
      ],
      "source": [
        "test_knn"
      ],
      "id": "-05HzaRAoja3"
    },
    {
      "cell_type": "code",
      "execution_count": null,
      "metadata": {
        "id": "uUhyq4_xoja3",
        "outputId": "c6cf39ce-321a-4ba1-b7fd-31c53a85ef22"
      },
      "outputs": [
        {
          "data": {
            "text/plain": [
              "GridSearchCV(cv=10, estimator=KNeighborsClassifier(), n_jobs=-1,\n",
              "             param_grid={'n_neighbors': [1, 3, 5, 10, 20]})"
            ]
          },
          "execution_count": 30,
          "metadata": {},
          "output_type": "execute_result"
        }
      ],
      "source": [
        "from sklearn.model_selection import GridSearchCV\n",
        "\n",
        "grid_clf_knn = GridSearchCV(cv=10, estimator=KNeighborsClassifier(), n_jobs=-1,\n",
        "             param_grid={'n_neighbors': [1, 3, 5, 10, 20]})\n",
        "grid_clf_knn.fit(train_X, train_y)"
      ],
      "id": "uUhyq4_xoja3"
    },
    {
      "cell_type": "code",
      "execution_count": null,
      "metadata": {
        "id": "_gjPAh5Xoja3",
        "outputId": "b1d5ec93-6131-49c8-cc3c-51d08a4fd61b"
      },
      "outputs": [
        {
          "data": {
            "text/plain": [
              "KNeighborsClassifier(n_neighbors=20)"
            ]
          },
          "execution_count": 31,
          "metadata": {},
          "output_type": "execute_result"
        }
      ],
      "source": [
        "grid_clf_knn.best_estimator_"
      ],
      "id": "_gjPAh5Xoja3"
    },
    {
      "cell_type": "code",
      "execution_count": null,
      "metadata": {
        "id": "82tP0tHvoja3"
      },
      "outputs": [],
      "source": [
        "y_pred = grid_clf_knn.predict(test_X)\n",
        "\n",
        "train_knn = grid_clf_knn.score(train_X, train_y)\n",
        "test_knn = grid_clf_knn.score(test_X, test_y)"
      ],
      "id": "82tP0tHvoja3"
    },
    {
      "cell_type": "code",
      "execution_count": null,
      "metadata": {
        "id": "3LLXh-t_oja3",
        "outputId": "76f39d83-ec52-4fb1-b6d0-4b266268707c"
      },
      "outputs": [
        {
          "data": {
            "text/plain": [
              "0.6366258111031002"
            ]
          },
          "execution_count": 33,
          "metadata": {},
          "output_type": "execute_result"
        }
      ],
      "source": [
        "train_knn"
      ],
      "id": "3LLXh-t_oja3"
    },
    {
      "cell_type": "code",
      "execution_count": null,
      "metadata": {
        "id": "0ra0CLFnoja4",
        "outputId": "4e33bb19-5d7f-4606-890e-f83021a402a5"
      },
      "outputs": [
        {
          "data": {
            "text/plain": [
              "0.5987031700288185"
            ]
          },
          "execution_count": 34,
          "metadata": {},
          "output_type": "execute_result"
        }
      ],
      "source": [
        "test_knn"
      ],
      "id": "0ra0CLFnoja4"
    },
    {
      "cell_type": "markdown",
      "metadata": {
        "id": "nSp9jXMpoja4"
      },
      "source": [
        "### Decision tree"
      ],
      "id": "nSp9jXMpoja4"
    },
    {
      "cell_type": "code",
      "execution_count": null,
      "metadata": {
        "id": "KChS9dF1oja4"
      },
      "outputs": [],
      "source": [
        "from sklearn.tree import DecisionTreeClassifier\n",
        "\n",
        "tr_model = DecisionTreeClassifier(\n",
        "                random_state=42, \n",
        "                criterion='entropy',\n",
        "                splitter='best', \n",
        "                max_depth=5, \n",
        "                min_samples_split=2)\n",
        "\n",
        "tr_model.fit(train_X, train_y)\n",
        "y_pred = tr_model.predict(test_X)\n",
        "\n",
        "train_tr = tr_model.score(train_X, train_y)\n",
        "test_tr = tr_model.score(test_X, test_y)"
      ],
      "id": "KChS9dF1oja4"
    },
    {
      "cell_type": "code",
      "execution_count": null,
      "metadata": {
        "id": "NrAHX3oToja4",
        "outputId": "d6bc1327-4625-457d-c11b-cac2a1add929"
      },
      "outputs": [
        {
          "data": {
            "text/plain": [
              "0.6294160057678443"
            ]
          },
          "execution_count": 36,
          "metadata": {},
          "output_type": "execute_result"
        }
      ],
      "source": [
        "train_tr"
      ],
      "id": "NrAHX3oToja4"
    },
    {
      "cell_type": "code",
      "execution_count": null,
      "metadata": {
        "id": "6VJrTtudoja4",
        "outputId": "3015e67a-3689-4305-938c-fbea7a0087fd"
      },
      "outputs": [
        {
          "data": {
            "text/plain": [
              "0.5893371757925072"
            ]
          },
          "execution_count": 37,
          "metadata": {},
          "output_type": "execute_result"
        }
      ],
      "source": [
        "test_tr"
      ],
      "id": "6VJrTtudoja4"
    },
    {
      "cell_type": "code",
      "execution_count": null,
      "metadata": {
        "id": "rUJgAKc3oja5"
      },
      "outputs": [],
      "source": [
        "from sklearn.model_selection import GridSearchCV\n",
        "\n",
        "param_grid = {\n",
        "                'min_samples_split': [2, 3, 4, 5, 6, 7, 8], \n",
        "                'max_depth': [2, 5, 7, 9],\n",
        "             }\n",
        "\n",
        "grid_clf_tr = GridSearchCV(tr_model, param_grid, cv=10, n_jobs=-1, refit = True)\n",
        "grid_clf_tr.fit(train_X, train_y)\n",
        "\n",
        "y_pred = grid_clf_tr.predict(test_X)\n",
        "\n",
        "train_tr = grid_clf_tr.score(train_X, train_y)\n",
        "test_tr = grid_clf_tr.score(test_X, test_y)"
      ],
      "id": "rUJgAKc3oja5"
    },
    {
      "cell_type": "code",
      "execution_count": null,
      "metadata": {
        "id": "BfKCsv3Goja5",
        "outputId": "40edd2ae-7ddf-4454-9dc0-95a5724d6224"
      },
      "outputs": [
        {
          "data": {
            "text/plain": [
              "DecisionTreeClassifier(criterion='entropy', max_depth=5, random_state=42)"
            ]
          },
          "execution_count": 39,
          "metadata": {},
          "output_type": "execute_result"
        }
      ],
      "source": [
        "grid_clf_tr.best_estimator_"
      ],
      "id": "BfKCsv3Goja5"
    },
    {
      "cell_type": "code",
      "execution_count": null,
      "metadata": {
        "id": "AqyZnS_Coja5",
        "outputId": "d504545a-9f07-4fd1-a584-0363e72d8b22"
      },
      "outputs": [
        {
          "data": {
            "text/plain": [
              "0.6294160057678443"
            ]
          },
          "execution_count": 40,
          "metadata": {},
          "output_type": "execute_result"
        }
      ],
      "source": [
        "train_tr"
      ],
      "id": "AqyZnS_Coja5"
    },
    {
      "cell_type": "code",
      "execution_count": null,
      "metadata": {
        "id": "pn0VVVeqoja5",
        "outputId": "3d88bbc6-720e-4f19-9d2f-7734a3af7097"
      },
      "outputs": [
        {
          "data": {
            "text/plain": [
              "0.5893371757925072"
            ]
          },
          "execution_count": 41,
          "metadata": {},
          "output_type": "execute_result"
        }
      ],
      "source": [
        "test_tr "
      ],
      "id": "pn0VVVeqoja5"
    },
    {
      "cell_type": "markdown",
      "metadata": {
        "id": "aKkR3LwNoja5"
      },
      "source": [
        "### Random forest"
      ],
      "id": "aKkR3LwNoja5"
    },
    {
      "cell_type": "code",
      "execution_count": null,
      "metadata": {
        "id": "yeCEASzAoja5"
      },
      "outputs": [],
      "source": [
        "from sklearn.ensemble import RandomForestClassifier\n",
        "\n",
        "rf_model = RandomForestClassifier(\n",
        "    n_estimators=100,\n",
        "    random_state=42, \n",
        "    criterion='entropy',\n",
        "    max_depth=None, \n",
        "    min_samples_split=2)\n",
        "\n",
        "rf_model.fit(train_X, train_y)\n",
        "y_pred = rf_model.predict(test_X)\n",
        "\n",
        "train_rf = rf_model.score(train_X, train_y)\n",
        "test_rf = rf_model.score(test_X, test_y)"
      ],
      "id": "yeCEASzAoja5"
    },
    {
      "cell_type": "code",
      "execution_count": null,
      "metadata": {
        "id": "mKJan2DOoja6",
        "outputId": "eb89bf86-3d8a-4c45-f391-f0b19348d93f"
      },
      "outputs": [
        {
          "data": {
            "text/plain": [
              "0.9507930785868781"
            ]
          },
          "execution_count": 43,
          "metadata": {},
          "output_type": "execute_result"
        }
      ],
      "source": [
        "train_rf"
      ],
      "id": "mKJan2DOoja6"
    },
    {
      "cell_type": "code",
      "execution_count": null,
      "metadata": {
        "id": "ghdFFYNLoja6",
        "outputId": "afd68d63-3f9b-49ac-d8ce-661f614a114b"
      },
      "outputs": [
        {
          "data": {
            "text/plain": [
              "0.6044668587896254"
            ]
          },
          "execution_count": 44,
          "metadata": {},
          "output_type": "execute_result"
        }
      ],
      "source": [
        "test_rf"
      ],
      "id": "ghdFFYNLoja6"
    },
    {
      "cell_type": "code",
      "execution_count": null,
      "metadata": {
        "id": "-lpQblQBoja6"
      },
      "outputs": [],
      "source": [
        "from sklearn.model_selection import GridSearchCV\n",
        "\n",
        "param_grid = {\n",
        "                'n_estimators': [5, 10, 15, 20, 25, 30, 35, 40, 50, 100],\n",
        "                'max_depth': [2, 3, 4, 5, 7, 8],\n",
        "             }\n",
        "\n",
        "grid_clf_rf = GridSearchCV(rf_model, param_grid, cv=10, n_jobs=-1, refit = True)\n",
        "grid_clf_rf.fit(train_X, train_y)\n",
        "\n",
        "y_pred = grid_clf_rf.predict(test_X)\n",
        "\n",
        "train_rf = grid_clf_rf.score(train_X, train_y)\n",
        "test_rf = grid_clf_rf.score(test_X, test_y)"
      ],
      "id": "-lpQblQBoja6"
    },
    {
      "cell_type": "code",
      "execution_count": null,
      "metadata": {
        "id": "N2lGMsZtoja6",
        "outputId": "d80e0aa2-3ca6-40ac-a27e-c8b2fe162f49"
      },
      "outputs": [
        {
          "data": {
            "text/plain": [
              "RandomForestClassifier(criterion='entropy', max_depth=8, random_state=42)"
            ]
          },
          "execution_count": 46,
          "metadata": {},
          "output_type": "execute_result"
        }
      ],
      "source": [
        "grid_clf_rf.best_estimator_"
      ],
      "id": "N2lGMsZtoja6"
    },
    {
      "cell_type": "code",
      "execution_count": null,
      "metadata": {
        "id": "12kuHmdzoja6",
        "outputId": "3024248d-6a61-48f1-ea78-0690ca964501"
      },
      "outputs": [
        {
          "data": {
            "text/plain": [
              "0.742790194664744"
            ]
          },
          "execution_count": 47,
          "metadata": {},
          "output_type": "execute_result"
        }
      ],
      "source": [
        "train_rf"
      ],
      "id": "12kuHmdzoja6"
    },
    {
      "cell_type": "code",
      "execution_count": null,
      "metadata": {
        "id": "sz5bzkr_oja6",
        "outputId": "97d066a5-37ce-48d1-b366-4eb2cb1bb541"
      },
      "outputs": [
        {
          "data": {
            "text/plain": [
              "0.6188760806916427"
            ]
          },
          "execution_count": 48,
          "metadata": {},
          "output_type": "execute_result"
        }
      ],
      "source": [
        "test_rf"
      ],
      "id": "sz5bzkr_oja6"
    },
    {
      "cell_type": "markdown",
      "metadata": {
        "id": "WXszSd81oja7"
      },
      "source": [
        "### Logistic regression"
      ],
      "id": "WXszSd81oja7"
    },
    {
      "cell_type": "code",
      "execution_count": null,
      "metadata": {
        "id": "O1zP7aHzoja7"
      },
      "outputs": [],
      "source": [
        "from sklearn.linear_model import LogisticRegression\n",
        "\n",
        "log_model = LogisticRegression(solver='liblinear',multi_class=\"auto\")\n",
        "log_model.fit(train_X, train_y)\n",
        "y_pred = log_model.predict(test_X)\n",
        "\n",
        "train_log = log_model.score(train_X, train_y)\n",
        "test_log = log_model.score(test_X, test_y)"
      ],
      "id": "O1zP7aHzoja7"
    },
    {
      "cell_type": "code",
      "execution_count": null,
      "metadata": {
        "id": "Xv3IV0MPoja7",
        "outputId": "10b4483f-da70-4646-b867-e47917501870"
      },
      "outputs": [
        {
          "data": {
            "text/plain": [
              "0.6180605623648161"
            ]
          },
          "execution_count": 50,
          "metadata": {},
          "output_type": "execute_result"
        }
      ],
      "source": [
        "train_log"
      ],
      "id": "Xv3IV0MPoja7"
    },
    {
      "cell_type": "code",
      "execution_count": null,
      "metadata": {
        "id": "3E4hE-29oja7",
        "outputId": "c2f9ff5a-b64f-4c6c-8541-a8f0371b33d1"
      },
      "outputs": [
        {
          "data": {
            "text/plain": [
              "0.6145533141210374"
            ]
          },
          "execution_count": 51,
          "metadata": {},
          "output_type": "execute_result"
        }
      ],
      "source": [
        "test_log"
      ],
      "id": "3E4hE-29oja7"
    }
  ],
  "metadata": {
    "kernelspec": {
      "display_name": "py38",
      "language": "python",
      "name": "py38"
    },
    "language_info": {
      "codemirror_mode": {
        "name": "ipython",
        "version": 3
      },
      "file_extension": ".py",
      "mimetype": "text/x-python",
      "name": "python",
      "nbconvert_exporter": "python",
      "pygments_lexer": "ipython3",
      "version": "3.8.2"
    },
    "colab": {
      "provenance": []
    }
  },
  "nbformat": 4,
  "nbformat_minor": 5
}